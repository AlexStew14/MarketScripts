{
 "cells": [
  {
   "cell_type": "code",
   "execution_count": 5,
   "metadata": {},
   "outputs": [],
   "source": [
    "import yfinance as yf\n",
    "from statistics import NormalDist\n",
    "import numpy as np\n",
    "import pandas as pd\n",
    "import matplotlib.pyplot as plt\n",
    "import seaborn as sns\n",
    "sns.set_style('darkgrid')\n"
   ]
  },
  {
   "cell_type": "code",
   "execution_count": 3,
   "metadata": {},
   "outputs": [
    {
     "name": "stdout",
     "output_type": "stream",
     "text": [
      "<class 'pandas.core.frame.DataFrame'>\n",
      "DatetimeIndex: 2516 entries, 2011-09-21 to 2021-09-20\n",
      "Data columns (total 7 columns):\n",
      " #   Column        Non-Null Count  Dtype  \n",
      "---  ------        --------------  -----  \n",
      " 0   Open          2516 non-null   float16\n",
      " 1   High          2516 non-null   float64\n",
      " 2   Low           2516 non-null   float64\n",
      " 3   Close         2516 non-null   float64\n",
      " 4   Volume        2516 non-null   int64  \n",
      " 5   Dividends     2516 non-null   float64\n",
      " 6   Stock Splits  2516 non-null   float64\n",
      "dtypes: float16(1), float64(5), int64(1)\n",
      "memory usage: 142.5 KB\n",
      "None\n"
     ]
    }
   ],
   "source": [
    "symbol = 'TPX'\n",
    "stock = yf.Ticker(symbol)\n",
    "hist = stock.history(period='10y', interval='1d')\n",
    "s_types = {'Open': np.float16}\n",
    "hist = hist.astype(s_types)\n",
    "print(hist.info())\n"
   ]
  },
  {
   "cell_type": "code",
   "execution_count": 20,
   "metadata": {},
   "outputs": [
    {
     "name": "stdout",
     "output_type": "stream",
     "text": [
      "2.148986039862688\n"
     ]
    }
   ],
   "source": [
    "def black_scholes_call_value(strike_price, underlying_price, time_to_expiration, risk_free_rate, volatility):\n",
    "    \"\"\"This function computes the theoretical value of a call option using the Black-Scholes model.\n",
    "       Black-Scholes formula: \n",
    "       C = S * N(d_1) - K * e^{-rt} * N(d_2)\n",
    "       d_1 = (ln(S/K) + (r + sigma^2/2) * t) / (sigma_s * sqrt(t))\n",
    "       d_2 = d_1 - sigma_s * sqrt(t)\n",
    "    \n",
    "       N is the standard normal CDF.\n",
    "    Args:\n",
    "        strike_price (float): K in the Black-Scholes formula.\n",
    "        underlying_price (float): S in the Black-Scholes formula.\n",
    "        time_to_expiration (float): t in the Black-Scholes formula, in years.\n",
    "        risk_free_rate (float): r in the Black-Scholes formula\n",
    "        volatility (float): sigma in the Black-Scholes formula, standard deviation of stock returns annualized.\n",
    "    \"\"\"\n",
    "    d_1_numerator = np.log(underlying_price / strike_price) + ((risk_free_rate + ((volatility ** 2) / 2)) * time_to_expiration)\n",
    "    d_1_denominator = volatility * (time_to_expiration ** .5)\n",
    "    d_1 = d_1_numerator / (d_1_denominator + 1e-6)\n",
    "    d_2 = d_1 - (volatility * (time_to_expiration ** .5))\n",
    "\n",
    "    call_value = underlying_price * NormalDist().cdf(d_1) - \\\n",
    "        (strike_price * np.exp(-risk_free_rate * time_to_expiration) * NormalDist().cdf(d_2))\n",
    "\n",
    "    return call_value\n",
    "\n",
    "\n",
    "print(black_scholes_call_value(50, 47.63, .068, 0, .63))"
   ]
  }
 ],
 "metadata": {
  "interpreter": {
   "hash": "76d49acc42e2e5ddd2c0a2595aee3f474f24d07098dadae8ec45d405aee15672"
  },
  "kernelspec": {
   "display_name": "Python 3.9.5 64-bit ('ds': conda)",
   "name": "python3"
  },
  "language_info": {
   "codemirror_mode": {
    "name": "ipython",
    "version": 3
   },
   "file_extension": ".py",
   "mimetype": "text/x-python",
   "name": "python",
   "nbconvert_exporter": "python",
   "pygments_lexer": "ipython3",
   "version": "3.9.5"
  },
  "orig_nbformat": 4
 },
 "nbformat": 4,
 "nbformat_minor": 2
}
