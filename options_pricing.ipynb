{
 "cells": [
  {
   "cell_type": "code",
   "execution_count": 5,
   "source": [
    "import yfinance as yf\r\n",
    "from statistics import NormalDist\r\n",
    "import numpy as np\r\n",
    "import pandas as pd\r\n",
    "import matplotlib.pyplot as plt\r\n",
    "import seaborn as sns\r\n",
    "sns.set_style('darkgrid')\r\n"
   ],
   "outputs": [],
   "metadata": {}
  },
  {
   "cell_type": "code",
   "execution_count": 3,
   "source": [
    "symbol = 'TPX'\r\n",
    "stock = yf.Ticker(symbol)\r\n",
    "hist = stock.history(period='10y', interval='1d')\r\n",
    "s_types = {'Open': np.float16}\r\n",
    "hist = hist.astype(s_types)\r\n",
    "print(hist.info())\r\n"
   ],
   "outputs": [
    {
     "output_type": "stream",
     "name": "stdout",
     "text": [
      "<class 'pandas.core.frame.DataFrame'>\n",
      "DatetimeIndex: 2516 entries, 2011-09-21 to 2021-09-20\n",
      "Data columns (total 7 columns):\n",
      " #   Column        Non-Null Count  Dtype  \n",
      "---  ------        --------------  -----  \n",
      " 0   Open          2516 non-null   float16\n",
      " 1   High          2516 non-null   float64\n",
      " 2   Low           2516 non-null   float64\n",
      " 3   Close         2516 non-null   float64\n",
      " 4   Volume        2516 non-null   int64  \n",
      " 5   Dividends     2516 non-null   float64\n",
      " 6   Stock Splits  2516 non-null   float64\n",
      "dtypes: float16(1), float64(5), int64(1)\n",
      "memory usage: 142.5 KB\n",
      "None\n"
     ]
    }
   ],
   "metadata": {}
  },
  {
   "cell_type": "code",
   "execution_count": 20,
   "source": [
    "def black_scholes_call_value(strike_price, underlying_price, time_to_expiration, risk_free_rate, volatility):\r\n",
    "    \"\"\"This function computes the theoretical value of a call option using the Black-Scholes model.\r\n",
    "       Black-Scholes formula: \r\n",
    "       C = S * N(d_1) - K * e^{-rt} * N(d_2)\r\n",
    "       d_1 = (ln(S/K) + (r + sigma^2/2) * t) / (sigma_s * sqrt(t))\r\n",
    "       d_2 = d_1 - sigma_s * sqrt(t)\r\n",
    "    \r\n",
    "       N is the standard normal CDF.\r\n",
    "    Args:\r\n",
    "        strike_price (float): K in the Black-Scholes formula.\r\n",
    "        underlying_price (float): S in the Black-Scholes formula.\r\n",
    "        time_to_expiration (float): t in the Black-Scholes formula, in years.\r\n",
    "        risk_free_rate (float): r in the Black-Scholes formula\r\n",
    "        volatility (float): sigma in the Black-Scholes formula, standard deviation of stock returns annualized.\r\n",
    "    \"\"\"\r\n",
    "    d_1_numerator = np.log(underlying_price / strike_price) + ((risk_free_rate + ((volatility ** 2) / 2)) * time_to_expiration)\r\n",
    "    d_1_denominator = volatility * (time_to_expiration ** .5)\r\n",
    "    d_1 = d_1_numerator / (d_1_denominator + 1e-6)\r\n",
    "    d_2 = d_1 - (volatility * (time_to_expiration ** .5))\r\n",
    "\r\n",
    "    call_value = underlying_price * NormalDist().cdf(d_1) - \\\r\n",
    "        (strike_price * np.exp(-risk_free_rate * time_to_expiration) * NormalDist().cdf(d_2))\r\n",
    "\r\n",
    "    return call_value\r\n",
    "\r\n",
    "\r\n",
    "print(black_scholes_call_value(50, 47.63, .068, 0, .63))"
   ],
   "outputs": [
    {
     "output_type": "stream",
     "name": "stdout",
     "text": [
      "2.148986039862688\n"
     ]
    }
   ],
   "metadata": {}
  },
  {
   "cell_type": "code",
   "execution_count": null,
   "source": [
    "def black_scholes_put_value(strike_price, underlying_price, time_to_expiration, risk_free_rate, volatility):\r\n",
    "    \"\"\"This function computes the theoretical value of a call option using the Black-Scholes model.\r\n",
    "       Black-Scholes formula: \r\n",
    "       C = S * N(d_1) - K * e^{-rt} * N(d_2)\r\n",
    "       d_1 = (ln(S/K) + (r + sigma^2/2) * t) / (sigma_s * sqrt(t))\r\n",
    "       d_2 = d_1 - sigma_s * sqrt(t)\r\n",
    "    \r\n",
    "       N is the standard normal CDF.\r\n",
    "    Args:\r\n",
    "        strike_price (float): K in the Black-Scholes formula.\r\n",
    "        underlying_price (float): S in the Black-Scholes formula.\r\n",
    "        time_to_expiration (float): t in the Black-Scholes formula, in years.\r\n",
    "        risk_free_rate (float): r in the Black-Scholes formula\r\n",
    "        volatility (float): sigma in the Black-Scholes formula, standard deviation of stock returns annualized.\r\n",
    "    \"\"\"\r\n"
   ],
   "outputs": [],
   "metadata": {}
  }
 ],
 "metadata": {
  "orig_nbformat": 4,
  "language_info": {
   "name": "python",
   "version": "3.9.5",
   "mimetype": "text/x-python",
   "codemirror_mode": {
    "name": "ipython",
    "version": 3
   },
   "pygments_lexer": "ipython3",
   "nbconvert_exporter": "python",
   "file_extension": ".py"
  },
  "kernelspec": {
   "name": "python3",
   "display_name": "Python 3.9.5 64-bit ('ds': conda)"
  },
  "interpreter": {
   "hash": "76d49acc42e2e5ddd2c0a2595aee3f474f24d07098dadae8ec45d405aee15672"
  }
 },
 "nbformat": 4,
 "nbformat_minor": 2
}